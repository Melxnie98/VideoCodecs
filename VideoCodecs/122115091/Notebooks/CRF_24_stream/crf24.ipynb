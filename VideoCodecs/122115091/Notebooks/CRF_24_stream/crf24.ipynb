{
 "cells": [
  {
   "cell_type": "code",
   "execution_count": 1,
   "id": "6cc3afc5",
   "metadata": {},
   "outputs": [],
   "source": [
    "%run ../../Code/scripts/data-analysis.py"
   ]
  },
  {
   "cell_type": "code",
   "execution_count": 2,
   "id": "c9e1f7e3",
   "metadata": {},
   "outputs": [],
   "source": [
    "%run ../../Code/scripts/data-visualisation.py"
   ]
  },
  {
   "cell_type": "code",
   "execution_count": 3,
   "id": "2d88d759",
   "metadata": {},
   "outputs": [],
   "source": [
    "PSNR_FILE = \"psnr.log\"\n",
    "SSIM_FILE = \"ssim.log\"\n",
    "PROBE_FILE = \"probe.csv\""
   ]
  },
  {
   "cell_type": "code",
   "execution_count": 4,
   "id": "f0551775",
   "metadata": {},
   "outputs": [],
   "source": [
    "REFERENCE = \"../../Assets/PeterPan.webm\"\n",
    "CRF24TARGET = \"../../Assets/libx264CRF24.mp4\""
   ]
  },
  {
   "cell_type": "markdown",
   "id": "799087a2",
   "metadata": {},
   "source": [
    "# crf 24 stream"
   ]
  },
  {
   "cell_type": "code",
   "execution_count": 5,
   "id": "5f7eaf35",
   "metadata": {},
   "outputs": [
    {
     "name": "stderr",
     "output_type": "stream",
     "text": [
      "[libdav1d @ 0x153004980] libdav1d 1.0.0\n",
      "Input #0, matroska,webm, from '../../Assets/PeterPan.webm':\n",
      "  Metadata:\n",
      "    COMPATIBLE_BRANDS: iso6av01mp41\n",
      "    MAJOR_BRAND     : dash\n",
      "    MINOR_VERSION   : 0\n",
      "    ENCODER         : Lavf59.27.100\n",
      "  Duration: 00:01:44.34, start: -0.007000, bitrate: 1168 kb/s\n",
      "  Stream #0:0: Video: av1 (Main), yuv420p(tv, bt709), 1920x1080, SAR 1:1 DAR 16:9, 23.98 fps, 23.98 tbr, 1k tbn (default)\n",
      "    Metadata:\n",
      "      HANDLER_NAME    : ISO Media file produced by Google Inc.\n",
      "      VENDOR_ID       : [0][0][0][0]\n",
      "      DURATION        : 00:01:44.313000000\n",
      "  Stream #0:1(eng): Audio: opus, 48000 Hz, stereo, fltp (default)\n",
      "    Metadata:\n",
      "      DURATION        : 00:01:44.341000000\n",
      "[libdav1d @ 0x153005ac0] libdav1d 1.0.0\n",
      "Stream mapping:\n",
      "  Stream #0:0 -> #0:0 (av1 (libdav1d) -> h264 (libx264))\n",
      "Press [q] to stop, [?] for help\n",
      "[libx264 @ 0x153007490] using SAR=1/1\n",
      "[libx264 @ 0x153007490] using cpu capabilities: ARMv8 NEON\n",
      "[libx264 @ 0x153007490] profile High, level 4.0, 4:2:0, 8-bit\n",
      "[libx264 @ 0x153007490] 264 - core 164 r3095 baee400 - H.264/MPEG-4 AVC codec - Copyleft 2003-2022 - http://www.videolan.org/x264.html - options: cabac=1 ref=3 deblock=1:0:0 analyse=0x3:0x113 me=hex subme=7 psy=1 psy_rd=1.00:0.00 mixed_ref=1 me_range=16 chroma_me=1 trellis=1 8x8dct=1 cqm=0 deadzone=21,11 fast_pskip=1 chroma_qp_offset=-2 threads=12 lookahead_threads=2 sliced_threads=0 nr=0 decimate=1 interlaced=0 bluray_compat=0 constrained_intra=0 bframes=3 b_pyramid=2 b_adapt=1 b_bias=0 direct=1 weightb=1 open_gop=0 weightp=2 keyint=72 keyint_min=37 scenecut=40 intra_refresh=0 rc_lookahead=40 rc=crf mbtree=1 crf=24.0 qcomp=0.60 qpmin=0 qpmax=69 qpstep=4 ip_ratio=1.40 aq=1:1.00\n",
      "Output #0, mp4, to '../../Assets/libx264CRF24.mp4':\n",
      "  Metadata:\n",
      "    COMPATIBLE_BRANDS: iso6av01mp41\n",
      "    MAJOR_BRAND     : dash\n",
      "    MINOR_VERSION   : 0\n",
      "    encoder         : Lavf59.27.100\n",
      "  Stream #0:0: Video: h264 (avc1 / 0x31637661), yuv420p(tv, bt709, progressive), 1920x1080 [SAR 1:1 DAR 16:9], q=2-31, 23.98 fps, 24k tbn (default)\n",
      "    Metadata:\n",
      "      HANDLER_NAME    : ISO Media file produced by Google Inc.\n",
      "      VENDOR_ID       : [0][0][0][0]\n",
      "      DURATION        : 00:01:44.313000000\n",
      "      encoder         : Lavc59.37.100 libx264\n",
      "    Side data:\n",
      "      cpb: bitrate max/min/avg: 0/0/0 buffer size: 0 vbv_delay: N/A\n",
      "frame= 2501 fps= 25 q=-1.0 Lsize=   26687kB time=00:01:44.18 bitrate=2098.3kbits/s speed=1.04x    \n",
      "video:26657kB audio:0kB subtitle:0kB other streams:0kB global headers:0kB muxing overhead: 0.111709%\n",
      "[libx264 @ 0x153007490] frame I:70    Avg QP:16.73  size: 55754\n",
      "[libx264 @ 0x153007490] frame P:733   Avg QP:20.80  size: 17077\n",
      "[libx264 @ 0x153007490] frame B:1698  Avg QP:22.47  size:  6405\n",
      "[libx264 @ 0x153007490] consecutive B-frames:  6.0%  7.6%  8.9% 77.6%\n",
      "[libx264 @ 0x153007490] mb I  I16..4: 29.4% 63.0%  7.6%\n",
      "[libx264 @ 0x153007490] mb P  I16..4:  9.1% 20.4%  0.7%  P16..4: 22.5%  4.0%  1.3%  0.0%  0.0%    skip:42.1%\n",
      "[libx264 @ 0x153007490] mb B  I16..4:  1.3%  1.6%  0.1%  B16..8: 23.5%  1.8%  0.2%  direct: 2.0%  skip:69.6%  L0:45.0% L1:49.4% BI: 5.6%\n",
      "[libx264 @ 0x153007490] 8x8 transform intra:64.6% inter:89.5%\n",
      "[libx264 @ 0x153007490] coded y,uvDC,uvAC intra: 25.8% 23.8% 3.7% inter: 5.1% 5.8% 0.0%\n",
      "[libx264 @ 0x153007490] i16 v,h,dc,p: 35% 32%  6% 27%\n",
      "[libx264 @ 0x153007490] i8 v,h,dc,ddl,ddr,vr,hd,vl,hu: 26% 23% 27%  3%  4%  4%  5%  4%  4%\n",
      "[libx264 @ 0x153007490] i4 v,h,dc,ddl,ddr,vr,hd,vl,hu: 21% 29% 13%  4%  8%  6% 10%  4%  4%\n",
      "[libx264 @ 0x153007490] i8c dc,h,v,p: 65% 19% 14%  3%\n",
      "[libx264 @ 0x153007490] Weighted P-Frames: Y:10.5% UV:8.3%\n",
      "[libx264 @ 0x153007490] ref P L0: 68.3% 11.4% 14.5%  5.5%  0.3%\n",
      "[libx264 @ 0x153007490] ref B L0: 90.3%  7.8%  1.9%\n",
      "[libx264 @ 0x153007490] ref B L1: 97.7%  2.3%\n",
      "[libx264 @ 0x153007490] kb/s:2093.42\n"
     ]
    }
   ],
   "source": [
    "%%bash -s \"$REFERENCE\" \"$CRF24TARGET\"\n",
    "ffmpeg -hide_banner -i $1 -c:v libx264 -pix_fmt yuv420p -an -b:v 0 -keyint_min 72 -g 72 -crf 24 -seg_duration 3 -y $2"
   ]
  },
  {
   "cell_type": "markdown",
   "id": "34203178",
   "metadata": {},
   "source": []
  },
  {
   "cell_type": "code",
   "execution_count": null,
   "id": "23094af5",
   "metadata": {},
   "outputs": [
    {
     "name": "stdout",
     "output_type": "stream",
     "text": [
      "Input #0, mov,mp4,m4a,3gp,3g2,mj2, from '../../Assets/libx264CRF24.mp4':\n",
      "  Metadata:\n",
      "    major_brand     : isom\n",
      "    minor_version   : 512\n",
      "    compatible_brands: isomiso2avc1mp41\n",
      "    encoder         : Lavf59.27.100\n",
      "  Duration: 00:01:44.31, start: 0.000000, bitrate: 2095 kb/s\n",
      "  Stream #0:0[0x1](und): Video: h264 (High) (avc1 / 0x31637661), yuv420p(tv, bt709, progressive), 1920x1080 [SAR 1:1 DAR 16:9], 2093 kb/s, 23.98 fps, 23.98 tbr, 24k tbn (default)\n",
      "    Metadata:\n",
      "      handler_name    : ISO Media file produced by Google Inc.\n",
      "      vendor_id       : [0][0][0][0]\n",
      "      encoder         : Lavc59.37.100 libx264\n",
      "\u001b[0;36m[libdav1d @ 0x12d6055d0] \u001b[0mlibdav1d 1.0.0\n",
      "Input #1, matroska,webm, from '../../Assets/PeterPan.webm':\n",
      "  Metadata:\n",
      "    COMPATIBLE_BRANDS: iso6av01mp41\n",
      "    MAJOR_BRAND     : dash\n",
      "    MINOR_VERSION   : 0\n",
      "    ENCODER         : Lavf59.27.100\n",
      "  Duration: 00:01:44.34, start: -0.007000, bitrate: 1168 kb/s\n",
      "  Stream #1:0: Video: av1 (Main), yuv420p(tv, bt709), 1920x1080, SAR 1:1 DAR 16:9, 23.98 fps, 23.98 tbr, 1k tbn (default)\n",
      "    Metadata:\n",
      "      HANDLER_NAME    : ISO Media file produced by Google Inc.\n",
      "      VENDOR_ID       : [0][0][0][0]\n",
      "      DURATION        : 00:01:44.313000000\n",
      "  Stream #1:1(eng): Audio: opus, 48000 Hz, stereo, fltp (default)\n",
      "    Metadata:\n",
      "      DURATION        : 00:01:44.341000000\n",
      "\u001b[0;36m[libdav1d @ 0x12f204550] \u001b[0mlibdav1d 1.0.0\n",
      "Stream mapping:\n",
      "  Stream #0:0 (h264) -> ssim (graph 0)\n",
      "  Stream #0:0 (h264) -> psnr (graph 0)\n",
      "  Stream #1:0 (libdav1d) -> ssim (graph 0)\n",
      "  Stream #1:0 (libdav1d) -> psnr (graph 0)\n",
      "  ssim:default (graph 0) -> Stream #0:0 (wrapped_avframe)\n",
      "  psnr:default (graph 0) -> Stream #0:1 (wrapped_avframe)\n",
      "  Stream #1:1 -> #0:2 (opus (native) -> pcm_s16le (native))\n",
      "Press [q] to stop, [?] for help\n",
      "\u001b[1;32m[Parsed_ssim_0 @ 0x600003230d10] \u001b[0m\u001b[0;33mnot matching timebases found between first input: 1/24000 and second input 1/1000, results may be incorrect!\n",
      "\u001b[0m\u001b[1;32m[Parsed_psnr_1 @ 0x600003230dc0] \u001b[0m\u001b[0;33mnot matching timebases found between first input: 1/24000 and second input 1/1000, results may be incorrect!\n",
      "\u001b[0mOutput #0, null, to 'pipe:':\n",
      "  Metadata:\n",
      "    major_brand     : isom\n",
      "    minor_version   : 512\n",
      "    compatible_brands: isomiso2avc1mp41\n",
      "    encoder         : Lavf59.27.100\n",
      "  Stream #0:0: Video: wrapped_avframe, yuv420p(tv, bt709, progressive), 1920x1080 [SAR 1:1 DAR 16:9], q=2-31, 200 kb/s, 23.98 fps, 23.98 tbn (default)\n",
      "    Metadata:\n",
      "      encoder         : Lavc59.37.100 wrapped_avframe\n",
      "  Stream #0:1: Video: wrapped_avframe, yuv420p(tv, bt709, progressive), 1920x1080 [SAR 1:1 DAR 16:9], q=2-31, 200 kb/s, 23.98 fps, 23.98 tbn\n",
      "    Metadata:\n",
      "      encoder         : Lavc59.37.100 wrapped_avframe\n",
      "  Stream #0:2(eng): Audio: pcm_s16le, 48000 Hz, stereo, s16, 1536 kb/s (default)\n",
      "    Metadata:\n",
      "      DURATION        : 00:01:44.341000000\n",
      "      encoder         : Lavc59.37.100 pcm_s16le\n",
      "frame= 1749 fps= 77 q=-0.0 q=-0.0 size=N/A time=00:01:13.00 bitrate=N/A speed=3.22x     \r"
     ]
    }
   ],
   "source": [
    "! ../../Code/scripts/run-analysis.sh \"$REFERENCE\" \"$CRF24TARGET\" \"$PROBE_FILE\" "
   ]
  },
  {
   "cell_type": "code",
   "execution_count": null,
   "id": "8ed3df81",
   "metadata": {},
   "outputs": [],
   "source": [
    "dataframe = create_dataframe(PSNR_FILE, SSIM_FILE, PROBE_FILE)"
   ]
  },
  {
   "cell_type": "code",
   "execution_count": null,
   "id": "209a7ef1",
   "metadata": {},
   "outputs": [],
   "source": [
    "visualise_pictures(dataframe, (0, 100), 'size', 'bytes')"
   ]
  },
  {
   "cell_type": "code",
   "execution_count": null,
   "id": "680ed281",
   "metadata": {},
   "outputs": [],
   "source": [
    "visualise_pictures(dataframe, (0, 100), 'PSNR', 'dB')"
   ]
  },
  {
   "cell_type": "code",
   "execution_count": null,
   "id": "61bf1450",
   "metadata": {},
   "outputs": [],
   "source": [
    "gop_dataframe = create_GOP_dataframe(dataframe, 23.98)"
   ]
  },
  {
   "cell_type": "code",
   "execution_count": null,
   "id": "dbcdc08f",
   "metadata": {},
   "outputs": [],
   "source": [
    "visualise_pictures(dataframe, (0, 100), 'SSIM', 'dB')"
   ]
  },
  {
   "cell_type": "code",
   "execution_count": null,
   "id": "449559cb",
   "metadata": {},
   "outputs": [],
   "source": [
    "gop_dataframe"
   ]
  },
  {
   "cell_type": "code",
   "execution_count": null,
   "id": "33d17f3b",
   "metadata": {},
   "outputs": [],
   "source": [
    "visualise_GOPs(gop_dataframe, 250, 23.98)"
   ]
  },
  {
   "cell_type": "code",
   "execution_count": null,
   "id": "bec15c25",
   "metadata": {},
   "outputs": [],
   "source": []
  },
  {
   "cell_type": "code",
   "execution_count": null,
   "id": "7a9a4073",
   "metadata": {},
   "outputs": [],
   "source": [
    "# just the first 10 GOPs\n",
    "visualise_GOPs(gop_dataframe[0:10], 250, 23.98)"
   ]
  },
  {
   "cell_type": "code",
   "execution_count": null,
   "id": "bc9930fc",
   "metadata": {},
   "outputs": [],
   "source": [
    "average = gop_dataframe[\"Bitrate\"].mean()\n",
    "print(average)"
   ]
  },
  {
   "cell_type": "code",
   "execution_count": null,
   "id": "2a1ac29f",
   "metadata": {},
   "outputs": [],
   "source": [
    "variability = gop_dataframe[\"Bitrate\"].var()\n",
    "print(variability)"
   ]
  },
  {
   "cell_type": "code",
   "execution_count": null,
   "id": "a00c5347",
   "metadata": {},
   "outputs": [],
   "source": [
    "stdDev = gop_dataframe[\"Bitrate\"].std()\n",
    "print(stdDev)"
   ]
  },
  {
   "cell_type": "code",
   "execution_count": null,
   "id": "9e9f900b",
   "metadata": {},
   "outputs": [],
   "source": []
  }
 ],
 "metadata": {
  "kernelspec": {
   "display_name": "Python 3 (ipykernel)",
   "language": "python",
   "name": "python3"
  },
  "language_info": {
   "codemirror_mode": {
    "name": "ipython",
    "version": 3
   },
   "file_extension": ".py",
   "mimetype": "text/x-python",
   "name": "python",
   "nbconvert_exporter": "python",
   "pygments_lexer": "ipython3",
   "version": "3.9.13"
  }
 },
 "nbformat": 4,
 "nbformat_minor": 5
}
