{
 "cells": [
  {
   "cell_type": "code",
   "execution_count": 1,
   "id": "b71c4d07",
   "metadata": {},
   "outputs": [],
   "source": [
    "%run ../../Code/scripts/data-analysis.py"
   ]
  },
  {
   "cell_type": "code",
   "execution_count": 2,
   "id": "09c5d801",
   "metadata": {},
   "outputs": [],
   "source": [
    "%run ../../Code/scripts/data-visualisation.py"
   ]
  },
  {
   "cell_type": "code",
   "execution_count": 3,
   "id": "a4c72583",
   "metadata": {},
   "outputs": [],
   "source": [
    "REFERENCE = \"../../Assets/PeterPan.webm\"\n",
    "AUDIOTARGET = \"../../Assets/audio.aac\""
   ]
  },
  {
   "cell_type": "code",
   "execution_count": 4,
   "id": "824737c4",
   "metadata": {},
   "outputs": [
    {
     "name": "stderr",
     "output_type": "stream",
     "text": [
      "[libdav1d @ 0x11ce055f0] libdav1d 1.0.0\n",
      "Input #0, matroska,webm, from '../../Assets/PeterPan.webm':\n",
      "  Metadata:\n",
      "    COMPATIBLE_BRANDS: iso6av01mp41\n",
      "    MAJOR_BRAND     : dash\n",
      "    MINOR_VERSION   : 0\n",
      "    ENCODER         : Lavf59.27.100\n",
      "  Duration: 00:01:44.34, start: -0.007000, bitrate: 1168 kb/s\n",
      "  Stream #0:0: Video: av1 (Main), yuv420p(tv, bt709), 1920x1080, SAR 1:1 DAR 16:9, 23.98 fps, 23.98 tbr, 1k tbn (default)\n",
      "    Metadata:\n",
      "      HANDLER_NAME    : ISO Media file produced by Google Inc.\n",
      "      VENDOR_ID       : [0][0][0][0]\n",
      "      DURATION        : 00:01:44.313000000\n",
      "  Stream #0:1(eng): Audio: opus, 48000 Hz, stereo, fltp (default)\n",
      "    Metadata:\n",
      "      DURATION        : 00:01:44.341000000\n",
      "Stream mapping:\n",
      "  Stream #0:1 -> #0:0 (opus (native) -> aac (native))\n",
      "Press [q] to stop, [?] for help\n",
      "Output #0, adts, to '../../Assets/audio.aac':\n",
      "  Metadata:\n",
      "    COMPATIBLE_BRANDS: iso6av01mp41\n",
      "    MAJOR_BRAND     : dash\n",
      "    MINOR_VERSION   : 0\n",
      "    encoder         : Lavf59.27.100\n",
      "  Stream #0:0(eng): Audio: aac (LC), 48000 Hz, stereo, fltp, 128 kb/s (default)\n",
      "    Metadata:\n",
      "      DURATION        : 00:01:44.341000000\n",
      "      encoder         : Lavc59.37.100 aac\n",
      "size=    1667kB time=00:01:44.32 bitrate= 130.9kbits/s speed=73.1x    \n",
      "video:0kB audio:1634kB subtitle:0kB other streams:0kB global headers:0kB muxing overhead: 2.046303%\n",
      "[aac @ 0x11ce08170] Qavg: 900.811\n"
     ]
    }
   ],
   "source": [
    "%%bash -s \"$REFERENCE\" \"$AUDIOTARGET\"\n",
    "ffmpeg -hide_banner -i $1 -vn -c:a aac -b:a 128k -y $2 "
   ]
  },
  {
   "cell_type": "code",
   "execution_count": null,
   "id": "b64f5e72",
   "metadata": {},
   "outputs": [],
   "source": []
  },
  {
   "cell_type": "code",
   "execution_count": null,
   "id": "1d615b8d",
   "metadata": {},
   "outputs": [],
   "source": []
  },
  {
   "cell_type": "code",
   "execution_count": null,
   "id": "d148b3ff",
   "metadata": {},
   "outputs": [],
   "source": []
  },
  {
   "cell_type": "code",
   "execution_count": null,
   "id": "21db96d7",
   "metadata": {},
   "outputs": [],
   "source": []
  },
  {
   "cell_type": "code",
   "execution_count": null,
   "id": "c1777b5d",
   "metadata": {},
   "outputs": [],
   "source": []
  },
  {
   "cell_type": "code",
   "execution_count": null,
   "id": "176176cb",
   "metadata": {},
   "outputs": [],
   "source": []
  },
  {
   "cell_type": "code",
   "execution_count": null,
   "id": "c60a9870",
   "metadata": {},
   "outputs": [],
   "source": []
  },
  {
   "cell_type": "code",
   "execution_count": null,
   "id": "615edd53",
   "metadata": {},
   "outputs": [],
   "source": []
  }
 ],
 "metadata": {
  "kernelspec": {
   "display_name": "Python 3 (ipykernel)",
   "language": "python",
   "name": "python3"
  },
  "language_info": {
   "codemirror_mode": {
    "name": "ipython",
    "version": 3
   },
   "file_extension": ".py",
   "mimetype": "text/x-python",
   "name": "python",
   "nbconvert_exporter": "python",
   "pygments_lexer": "ipython3",
   "version": "3.9.13"
  }
 },
 "nbformat": 4,
 "nbformat_minor": 5
}
