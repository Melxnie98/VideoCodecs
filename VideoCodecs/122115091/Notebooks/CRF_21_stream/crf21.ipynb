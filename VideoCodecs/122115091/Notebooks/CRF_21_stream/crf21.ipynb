{
 "cells": [
  {
   "cell_type": "code",
   "execution_count": 1,
   "id": "7685959f",
   "metadata": {},
   "outputs": [],
   "source": [
    "%run ../../Code/scripts/data-analysis.py"
   ]
  },
  {
   "cell_type": "code",
   "execution_count": 2,
   "id": "60fc2a61",
   "metadata": {},
   "outputs": [],
   "source": [
    "%run ../../Code/scripts/data-visualisation.py"
   ]
  },
  {
   "cell_type": "code",
   "execution_count": 3,
   "id": "4b6561b5",
   "metadata": {},
   "outputs": [],
   "source": [
    "PSNR_FILE = \"psnr.log\"\n",
    "SSIM_FILE = \"ssim.log\"\n",
    "PROBE_FILE = \"probe.csv\""
   ]
  },
  {
   "cell_type": "code",
   "execution_count": 4,
   "id": "e88ab84a",
   "metadata": {},
   "outputs": [],
   "source": [
    "REFERENCE = \"../../Assets/PeterPan.webm\"\n",
    "CRF21TARGET = \"../../Assets/libx264CRF21.mp4\""
   ]
  },
  {
   "cell_type": "markdown",
   "id": "15a2679f",
   "metadata": {},
   "source": [
    "# crf 21 stream"
   ]
  },
  {
   "cell_type": "code",
   "execution_count": null,
   "id": "b01e5b04",
   "metadata": {},
   "outputs": [
    {
     "name": "stderr",
     "output_type": "stream",
     "text": [
      "[libdav1d @ 0x138004780] libdav1d 1.0.0\n",
      "Input #0, matroska,webm, from '../../Assets/PeterPan.webm':\n",
      "  Metadata:\n",
      "    COMPATIBLE_BRANDS: iso6av01mp41\n",
      "    MAJOR_BRAND     : dash\n",
      "    MINOR_VERSION   : 0\n",
      "    ENCODER         : Lavf59.27.100\n",
      "  Duration: 00:01:44.34, start: -0.007000, bitrate: 1168 kb/s\n",
      "  Stream #0:0: Video: av1 (Main), yuv420p(tv, bt709), 1920x1080, SAR 1:1 DAR 16:9, 23.98 fps, 23.98 tbr, 1k tbn (default)\n",
      "    Metadata:\n",
      "      HANDLER_NAME    : ISO Media file produced by Google Inc.\n",
      "      VENDOR_ID       : [0][0][0][0]\n",
      "      DURATION        : 00:01:44.313000000\n",
      "  Stream #0:1(eng): Audio: opus, 48000 Hz, stereo, fltp (default)\n",
      "    Metadata:\n",
      "      DURATION        : 00:01:44.341000000\n",
      "[libdav1d @ 0x1380058c0] libdav1d 1.0.0\n",
      "Stream mapping:\n",
      "  Stream #0:0 -> #0:0 (av1 (libdav1d) -> h264 (libx264))\n",
      "Press [q] to stop, [?] for help\n",
      "[libx264 @ 0x138007290] using SAR=1/1\n",
      "[libx264 @ 0x138007290] using cpu capabilities: ARMv8 NEON\n",
      "[libx264 @ 0x138007290] profile High, level 4.0, 4:2:0, 8-bit\n",
      "[libx264 @ 0x138007290] 264 - core 164 r3095 baee400 - H.264/MPEG-4 AVC codec - Copyleft 2003-2022 - http://www.videolan.org/x264.html - options: cabac=1 ref=3 deblock=1:0:0 analyse=0x3:0x113 me=hex subme=7 psy=1 psy_rd=1.00:0.00 mixed_ref=1 me_range=16 chroma_me=1 trellis=1 8x8dct=1 cqm=0 deadzone=21,11 fast_pskip=1 chroma_qp_offset=-2 threads=12 lookahead_threads=2 sliced_threads=0 nr=0 decimate=1 interlaced=0 bluray_compat=0 constrained_intra=0 bframes=3 b_pyramid=2 b_adapt=1 b_bias=0 direct=1 weightb=1 open_gop=0 weightp=2 keyint=72 keyint_min=37 scenecut=40 intra_refresh=0 rc_lookahead=40 rc=crf mbtree=1 crf=21.0 qcomp=0.60 qpmin=0 qpmax=69 qpstep=4 ip_ratio=1.40 aq=1:1.00\n",
      "Output #0, mp4, to '../../Assets/libx264CRF21.mp4':\n",
      "  Metadata:\n",
      "    COMPATIBLE_BRANDS: iso6av01mp41\n",
      "    MAJOR_BRAND     : dash\n",
      "    MINOR_VERSION   : 0\n",
      "    encoder         : Lavf59.27.100\n",
      "  Stream #0:0: Video: h264 (avc1 / 0x31637661), yuv420p(tv, bt709, progressive), 1920x1080 [SAR 1:1 DAR 16:9], q=2-31, 23.98 fps, 24k tbn (default)\n",
      "    Metadata:\n",
      "      HANDLER_NAME    : ISO Media file produced by Google Inc.\n",
      "      VENDOR_ID       : [0][0][0][0]\n",
      "      DURATION        : 00:01:44.313000000\n",
      "      encoder         : Lavc59.37.100 libx264\n",
      "    Side data:\n",
      "      cpb: bitrate max/min/avg: 0/0/0 buffer size: 0 vbv_delay: N/A\n"
     ]
    }
   ],
   "source": [
    "%%bash -s \"$REFERENCE\" \"$CRF21TARGET\"\n",
    "ffmpeg -hide_banner -i $1 -c:v libx264 -pix_fmt yuv420p -an -b:v 0 -keyint_min 72 -seg_duration 3 -g 72 -crf 21 -y $2"
   ]
  },
  {
   "cell_type": "code",
   "execution_count": null,
   "id": "7c2dc84d",
   "metadata": {},
   "outputs": [],
   "source": [
    "! ../../Code/scripts/run-analysis.sh \"$REFERENCE\" \"$CRF21TARGET\" \"$PROBE_FILE\" "
   ]
  },
  {
   "cell_type": "code",
   "execution_count": null,
   "id": "fbf9a2fe",
   "metadata": {},
   "outputs": [],
   "source": [
    "dataframe = create_dataframe(PSNR_FILE, SSIM_FILE, PROBE_FILE)"
   ]
  },
  {
   "cell_type": "code",
   "execution_count": null,
   "id": "1e1d254c",
   "metadata": {},
   "outputs": [],
   "source": [
    "visualise_pictures(dataframe, (0, 100), 'size', 'bytes')"
   ]
  },
  {
   "cell_type": "code",
   "execution_count": null,
   "id": "01398bd4",
   "metadata": {},
   "outputs": [],
   "source": [
    "visualise_pictures(dataframe, (0, 100), 'PSNR', 'dB')"
   ]
  },
  {
   "cell_type": "code",
   "execution_count": null,
   "id": "e970d8ae",
   "metadata": {},
   "outputs": [],
   "source": [
    "visualise_pictures(dataframe, (0, 100), 'SSIM', 'dB')"
   ]
  },
  {
   "cell_type": "code",
   "execution_count": null,
   "id": "64ec94e5",
   "metadata": {},
   "outputs": [],
   "source": [
    "gop_dataframe = create_GOP_dataframe(dataframe, 23.98)"
   ]
  },
  {
   "cell_type": "code",
   "execution_count": null,
   "id": "3fe0b08e",
   "metadata": {},
   "outputs": [],
   "source": [
    "gop_dataframe"
   ]
  },
  {
   "cell_type": "code",
   "execution_count": null,
   "id": "53aafa3b",
   "metadata": {},
   "outputs": [],
   "source": [
    "visualise_GOPs(gop_dataframe, 250, 23.98)"
   ]
  },
  {
   "cell_type": "code",
   "execution_count": null,
   "id": "f3d3ed28",
   "metadata": {},
   "outputs": [],
   "source": [
    "# just the first 10 GOPs\n",
    "visualise_GOPs(gop_dataframe[0:10], 250, 23.98)"
   ]
  },
  {
   "cell_type": "code",
   "execution_count": null,
   "id": "2c1aac19",
   "metadata": {},
   "outputs": [],
   "source": [
    "average = gop_dataframe[\"Bitrate\"].mean()\n",
    "print(average)"
   ]
  },
  {
   "cell_type": "code",
   "execution_count": null,
   "id": "be736194",
   "metadata": {},
   "outputs": [],
   "source": [
    "variability = gop_dataframe[\"Bitrate\"].var()\n",
    "print(variability)"
   ]
  },
  {
   "cell_type": "code",
   "execution_count": null,
   "id": "e8b1ed00",
   "metadata": {},
   "outputs": [],
   "source": [
    "stdDev = gop_dataframe[\"Bitrate\"].std()\n",
    "print(stdDev)"
   ]
  },
  {
   "cell_type": "code",
   "execution_count": null,
   "id": "e47904d2",
   "metadata": {},
   "outputs": [],
   "source": []
  }
 ],
 "metadata": {
  "kernelspec": {
   "display_name": "Python 3 (ipykernel)",
   "language": "python",
   "name": "python3"
  },
  "language_info": {
   "codemirror_mode": {
    "name": "ipython",
    "version": 3
   },
   "file_extension": ".py",
   "mimetype": "text/x-python",
   "name": "python",
   "nbconvert_exporter": "python",
   "pygments_lexer": "ipython3",
   "version": "3.9.13"
  }
 },
 "nbformat": 4,
 "nbformat_minor": 5
}
